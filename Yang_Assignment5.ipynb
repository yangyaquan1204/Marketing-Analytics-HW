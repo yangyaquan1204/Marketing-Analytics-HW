{
 "cells": [
  {
   "cell_type": "markdown",
   "id": "cc1326e5",
   "metadata": {},
   "source": [
    "# Part I: Working with Time Series Data"
   ]
  },
  {
   "cell_type": "markdown",
   "id": "679304b0",
   "metadata": {},
   "source": [
    "*A Coca-Cola Company (Ticker Symbol: KO) - listed on the NYSE*"
   ]
  },
  {
   "cell_type": "code",
   "execution_count": 20,
   "id": "2dbf28b5",
   "metadata": {},
   "outputs": [],
   "source": [
    "import numpy as np\n",
    "import pandas as pd\n",
    "import matplotlib.pyplot as plt\n",
    "import seaborn as sns\n",
    "import statsmodels.api as sm\n"
   ]
  },
  {
   "cell_type": "code",
   "execution_count": 3,
   "id": "ef0b97d2",
   "metadata": {},
   "outputs": [
    {
     "data": {
      "text/html": [
       "<div>\n",
       "<style scoped>\n",
       "    .dataframe tbody tr th:only-of-type {\n",
       "        vertical-align: middle;\n",
       "    }\n",
       "\n",
       "    .dataframe tbody tr th {\n",
       "        vertical-align: top;\n",
       "    }\n",
       "\n",
       "    .dataframe thead th {\n",
       "        text-align: right;\n",
       "    }\n",
       "</style>\n",
       "<table border=\"1\" class=\"dataframe\">\n",
       "  <thead>\n",
       "    <tr style=\"text-align: right;\">\n",
       "      <th></th>\n",
       "      <th>Open</th>\n",
       "      <th>High</th>\n",
       "      <th>Low</th>\n",
       "      <th>Close</th>\n",
       "      <th>Adj Close</th>\n",
       "      <th>Volume</th>\n",
       "    </tr>\n",
       "    <tr>\n",
       "      <th>Date</th>\n",
       "      <th></th>\n",
       "      <th></th>\n",
       "      <th></th>\n",
       "      <th></th>\n",
       "      <th></th>\n",
       "      <th></th>\n",
       "    </tr>\n",
       "  </thead>\n",
       "  <tbody>\n",
       "    <tr>\n",
       "      <th>2022-04-18</th>\n",
       "      <td>64.769997</td>\n",
       "      <td>65.180000</td>\n",
       "      <td>64.180000</td>\n",
       "      <td>64.440002</td>\n",
       "      <td>62.587334</td>\n",
       "      <td>11679400</td>\n",
       "    </tr>\n",
       "    <tr>\n",
       "      <th>2022-04-19</th>\n",
       "      <td>64.500000</td>\n",
       "      <td>65.250000</td>\n",
       "      <td>64.440002</td>\n",
       "      <td>65.070000</td>\n",
       "      <td>63.199219</td>\n",
       "      <td>11993800</td>\n",
       "    </tr>\n",
       "    <tr>\n",
       "      <th>2022-04-20</th>\n",
       "      <td>65.440002</td>\n",
       "      <td>66.239998</td>\n",
       "      <td>65.400002</td>\n",
       "      <td>65.959999</td>\n",
       "      <td>64.063629</td>\n",
       "      <td>14827100</td>\n",
       "    </tr>\n",
       "    <tr>\n",
       "      <th>2022-04-21</th>\n",
       "      <td>65.980003</td>\n",
       "      <td>67.000000</td>\n",
       "      <td>65.720001</td>\n",
       "      <td>66.209999</td>\n",
       "      <td>64.306450</td>\n",
       "      <td>15120400</td>\n",
       "    </tr>\n",
       "    <tr>\n",
       "      <th>2022-04-22</th>\n",
       "      <td>66.080002</td>\n",
       "      <td>66.339996</td>\n",
       "      <td>65.180000</td>\n",
       "      <td>65.250000</td>\n",
       "      <td>63.374043</td>\n",
       "      <td>14902200</td>\n",
       "    </tr>\n",
       "  </tbody>\n",
       "</table>\n",
       "</div>"
      ],
      "text/plain": [
       "                 Open       High        Low      Close  Adj Close    Volume\n",
       "Date                                                                       \n",
       "2022-04-18  64.769997  65.180000  64.180000  64.440002  62.587334  11679400\n",
       "2022-04-19  64.500000  65.250000  64.440002  65.070000  63.199219  11993800\n",
       "2022-04-20  65.440002  66.239998  65.400002  65.959999  64.063629  14827100\n",
       "2022-04-21  65.980003  67.000000  65.720001  66.209999  64.306450  15120400\n",
       "2022-04-22  66.080002  66.339996  65.180000  65.250000  63.374043  14902200"
      ]
     },
     "execution_count": 3,
     "metadata": {},
     "output_type": "execute_result"
    }
   ],
   "source": [
    "#B,C\n",
    "KO = pd.read_csv(\"KO.csv\",index_col='Date',parse_dates=True)\n",
    "#(a)\n",
    "KO.head()"
   ]
  },
  {
   "cell_type": "code",
   "execution_count": 4,
   "id": "fd04fc54",
   "metadata": {},
   "outputs": [
    {
     "name": "stdout",
     "output_type": "stream",
     "text": [
      "<class 'pandas.core.frame.DataFrame'>\n",
      "DatetimeIndex: 252 entries, 2022-04-18 to 2023-04-18\n",
      "Data columns (total 6 columns):\n",
      " #   Column     Non-Null Count  Dtype  \n",
      "---  ------     --------------  -----  \n",
      " 0   Open       252 non-null    float64\n",
      " 1   High       252 non-null    float64\n",
      " 2   Low        252 non-null    float64\n",
      " 3   Close      252 non-null    float64\n",
      " 4   Adj Close  252 non-null    float64\n",
      " 5   Volume     252 non-null    int64  \n",
      "dtypes: float64(5), int64(1)\n",
      "memory usage: 13.8 KB\n"
     ]
    }
   ],
   "source": [
    "#(b)\n",
    "KO.info() "
   ]
  },
  {
   "cell_type": "markdown",
   "id": "4c6acd72",
   "metadata": {},
   "source": [
    "*D Yes,it is. This dataframe has a column of date which is usually used as the index of the dataframe, allowing you to easily slice and analyze the data based on time periods.*"
   ]
  },
  {
   "cell_type": "code",
   "execution_count": 5,
   "id": "96570856",
   "metadata": {},
   "outputs": [
    {
     "name": "stdout",
     "output_type": "stream",
     "text": [
      "2023-04-18 00:00:00\n",
      "2022-04-18 00:00:00\n"
     ]
    }
   ],
   "source": [
    "#E\n",
    "#(a)\n",
    "print(KO.index.max())\n",
    "print(KO.index.min())"
   ]
  },
  {
   "cell_type": "code",
   "execution_count": 6,
   "id": "5f1bc9ee",
   "metadata": {},
   "outputs": [
    {
     "name": "stdout",
     "output_type": "stream",
     "text": [
      "251\n",
      "0\n"
     ]
    }
   ],
   "source": [
    "#(b)\n",
    "print(KO.index.argmax())\n",
    "print(KO.index.argmin())"
   ]
  },
  {
   "cell_type": "markdown",
   "id": "c6026de6",
   "metadata": {},
   "source": [
    "*(C) max() and min() return the maximum and minimum datetime values of the time series. The argmax() and argmin() methods return the index location of the maximum and minimum values of the index attribute,argmax() returns the index location ofargmin() returns the index location of the minimum datetime value.*"
   ]
  },
  {
   "cell_type": "code",
   "execution_count": 7,
   "id": "2950e5a1",
   "metadata": {},
   "outputs": [
    {
     "data": {
      "text/plain": [
       "<AxesSubplot:xlabel='Date'>"
      ]
     },
     "execution_count": 7,
     "metadata": {},
     "output_type": "execute_result"
    },
    {
     "data": {
      "image/png": "[encoded data removed]",
      "text/plain": [
       "<Figure size 432x288 with 1 Axes>"
      ]
     },
     "metadata": {
      "needs_background": "light"
     },
     "output_type": "display_data"
    }
   ],
   "source": [
    "#F\n",
    "#(a)\n",
    "KO.plot()"
   ]
  },
  {
   "cell_type": "markdown",
   "id": "369fe5be",
   "metadata": {},
   "source": [
    "*(i)This plot is hard to interpret because it includes many variabls and the scale of the these variables are not appropriate. Also it  contains a lot of noise or variability, it can be difficult to identify underlying trends or patterns.*\n",
    "\n",
    "*To make a time series graph easier to understand, there are several steps you can take: 1.Choose an appropriate scale for the y-axis based on the range of values in the data. 2.Use smoothing techniques, such as moving averages, to reduce noise in the data and make underlying trends more visible.*"
   ]
  },
  {
   "cell_type": "code",
   "execution_count": 8,
   "id": "dc24a7bb",
   "metadata": {},
   "outputs": [
    {
     "data": {
      "text/plain": [
       "<AxesSubplot:xlabel='Date'>"
      ]
     },
     "execution_count": 8,
     "metadata": {},
     "output_type": "execute_result"
    },
    {
     "data": {
      "image/png": "[encoded data removed]",
      "text/plain": [
       "<Figure size 432x288 with 1 Axes>"
      ]
     },
     "metadata": {
      "needs_background": "light"
     },
     "output_type": "display_data"
    }
   ],
   "source": [
    "#(b)\n",
    "KO['Close'].plot()"
   ]
  },
  {
   "cell_type": "markdown",
   "id": "c91bd966",
   "metadata": {},
   "source": [
    "*(i)We can find that, the closing price experienced a huge drop and rise between September 2022 and January 2023. And it has experienced another small decline in March 2023. This plot is easier to interpret because it contains only one variable-- \"Close\", we can find the trend of closing price over time.*"
   ]
  },
  {
   "cell_type": "code",
   "execution_count": 9,
   "id": "2d3513b7",
   "metadata": {},
   "outputs": [
    {
     "data": {
      "image/png": "[encoded data removed]",
      "text/plain": [
       "<Figure size 432x288 with 1 Axes>"
      ]
     },
     "metadata": {
      "needs_background": "light"
     },
     "output_type": "display_data"
    },
    {
     "data": {
      "image/png": "[encoded data removed]",
      "text/plain": [
       "<Figure size 720x432 with 1 Axes>"
      ]
     },
     "metadata": {
      "needs_background": "light"
     },
     "output_type": "display_data"
    }
   ],
   "source": [
    "#(c)\n",
    "start_date = '2022-09-01'\n",
    "end_date = '2022-09-30'\n",
    "one_month_data = KO.loc[start_date:end_date, 'Close']\n",
    "one_month_data.plot()\n",
    "plt.figure(figsize=(10,6))   # new figsize\n",
    "plt.plot(one_month_data, color='red', linestyle='--')   # new line color and style\n",
    "\n",
    "# Add axis labels and a title\n",
    "plt.xlabel('Date')\n",
    "plt.ylabel('Closing Price')\n",
    "plt.title('Stock Closing Prices for March 2022')\n",
    "\n",
    "# Display the plot\n",
    "plt.show()"
   ]
  },
  {
   "cell_type": "code",
   "execution_count": 10,
   "id": "8770953c",
   "metadata": {},
   "outputs": [
    {
     "data": {
      "image/png": "[encoded data removed]",
      "text/plain": [
       "<Figure size 432x288 with 1 Axes>"
      ]
     },
     "metadata": {
      "needs_background": "light"
     },
     "output_type": "display_data"
    }
   ],
   "source": [
    "#G\n",
    "#(a)\n",
    "# Calculate the 10-period moving average of the 'Close' variable\n",
    "ma10 = KO['Close'].rolling(window=10).mean()\n",
    "\n",
    "# Plot the daily closing prices and the 10-period moving average\n",
    "plt.plot(KO['Close'], label='Actual Closing Prices')\n",
    "plt.plot(ma10, label='10-Period Moving Average')\n",
    "\n",
    "plt.xlabel('Date')\n",
    "plt.ylabel('Closing Price')\n",
    "plt.title('Stock Closing Prices with 10-Period Moving Average')\n",
    "plt.legend()\n",
    "\n",
    "\n",
    "plt.show()\n"
   ]
  },
  {
   "cell_type": "code",
   "execution_count": 11,
   "id": "d15cb55e",
   "metadata": {},
   "outputs": [
    {
     "data": {
      "image/png": "[encoded data removed]",
      "text/plain": [
       "<Figure size 432x288 with 1 Axes>"
      ]
     },
     "metadata": {
      "needs_background": "light"
     },
     "output_type": "display_data"
    }
   ],
   "source": [
    "#(b)\n",
    "# Calculate the 50-period moving average of the 'Close' variable\n",
    "ma50 = KO['Close'].rolling(window=50).mean()\n",
    "\n",
    "# Plot the daily closing prices and the 50-period moving average\n",
    "plt.plot(KO['Close'], label='Actual Closing Prices')\n",
    "plt.plot(ma50, label='50-Period Moving Average')\n",
    "\n",
    "plt.xlabel('Date')\n",
    "plt.ylabel('Closing Price')\n",
    "plt.title('Stock Closing Prices with 50-Period Moving Average')\n",
    "plt.legend()\n",
    "\n",
    "\n",
    "plt.show()"
   ]
  },
  {
   "cell_type": "markdown",
   "id": "740d2a79",
   "metadata": {},
   "source": [
    "*(c)When plotting two moving averages of different periods on the same chart, the shorter moving average will be more sensitive to short-term price movements, while the longer moving average will be more sensitive to long-term trends. This means that the shorter moving average will respond more quickly to changes in price, while the longer moving average will be slower to respond, but will provide a smoother trendline.*\n",
    "\n",
    "*The advantage of using a shorter moving average window is that it can provide more timely signals for entering or exiting a position, as it will respond more quickly to changes in price. However, shorter moving averages can also be more prone to false signals, as they may react to short-term price fluctuations that are not indicative of a longer-term trend.*\n",
    "\n",
    "*On the other hand, the advantage of using a longer moving average window is that it can filter out short-term price fluctuations and provide a more accurate representation of the longer-term trend. However, longer moving averages may be slower to react to changes in price, which can result in delayed signals for entering or exiting a position.*"
   ]
  },
  {
   "cell_type": "code",
   "execution_count": 12,
   "id": "098057f9",
   "metadata": {},
   "outputs": [
    {
     "data": {
      "text/plain": [
       "<AxesSubplot:xlabel='Date'>"
      ]
     },
     "execution_count": 12,
     "metadata": {},
     "output_type": "execute_result"
    },
    {
     "data": {
      "image/png": "[encoded data removed]",
      "text/plain": [
       "<Figure size 432x288 with 1 Axes>"
      ]
     },
     "metadata": {
      "needs_background": "light"
     },
     "output_type": "display_data"
    }
   ],
   "source": [
    "#H\n",
    "#(a)(i)\n",
    "KO_quarterly = KO.resample('Q').mean()\n",
    "KO_quarterly['Close'].plot()"
   ]
  },
  {
   "cell_type": "markdown",
   "id": "394b2267",
   "metadata": {},
   "source": [
    "*(ii)Resampling a time series involves changing the frequency of the time series by aggregating or downsampling the data to a lower frequency (e.g., from daily to weekly or monthly) or upsampling the data to a higher frequency (e.g., from monthly to daily). This technique is useful for analyzing trends, patterns, and relationships in the data at different time intervals.*\n",
    "\n",
    "*An example where resampling a time series can be useful is in weather forecasting. Weather data is often recorded at high frequencies, such as every minute or every hour. However, these high-frequency data can be noisy and difficult to analyze. By resampling the data to lower frequencies, such as daily or weekly, meteorologists can identify long-term weather patterns and trends, which can be used to forecast weather over longer time horizons. Additionally, resampling can help to identify seasonality and trends that may be missed at higher frequencies.*\n"
   ]
  },
  {
   "cell_type": "markdown",
   "id": "900df112",
   "metadata": {},
   "source": [
    "# Part II: Marketing Mix Modeling with an Interaction Term"
   ]
  },
  {
   "cell_type": "code",
   "execution_count": 14,
   "id": "4cf42d5c",
   "metadata": {},
   "outputs": [
    {
     "data": {
      "text/html": [
       "<div>\n",
       "<style scoped>\n",
       "    .dataframe tbody tr th:only-of-type {\n",
       "        vertical-align: middle;\n",
       "    }\n",
       "\n",
       "    .dataframe tbody tr th {\n",
       "        vertical-align: top;\n",
       "    }\n",
       "\n",
       "    .dataframe thead th {\n",
       "        text-align: right;\n",
       "    }\n",
       "</style>\n",
       "<table border=\"1\" class=\"dataframe\">\n",
       "  <thead>\n",
       "    <tr style=\"text-align: right;\">\n",
       "      <th></th>\n",
       "      <th>Web</th>\n",
       "      <th>Bus_Stop</th>\n",
       "      <th>Newspaper</th>\n",
       "      <th>Sales</th>\n",
       "    </tr>\n",
       "  </thead>\n",
       "  <tbody>\n",
       "    <tr>\n",
       "      <th>0</th>\n",
       "      <td>230.1</td>\n",
       "      <td>37.8</td>\n",
       "      <td>69.2</td>\n",
       "      <td>22.1</td>\n",
       "    </tr>\n",
       "    <tr>\n",
       "      <th>1</th>\n",
       "      <td>44.5</td>\n",
       "      <td>39.3</td>\n",
       "      <td>45.1</td>\n",
       "      <td>10.4</td>\n",
       "    </tr>\n",
       "    <tr>\n",
       "      <th>2</th>\n",
       "      <td>17.2</td>\n",
       "      <td>45.9</td>\n",
       "      <td>69.3</td>\n",
       "      <td>12.0</td>\n",
       "    </tr>\n",
       "    <tr>\n",
       "      <th>3</th>\n",
       "      <td>151.5</td>\n",
       "      <td>41.3</td>\n",
       "      <td>58.5</td>\n",
       "      <td>16.5</td>\n",
       "    </tr>\n",
       "    <tr>\n",
       "      <th>4</th>\n",
       "      <td>180.8</td>\n",
       "      <td>10.8</td>\n",
       "      <td>58.4</td>\n",
       "      <td>17.9</td>\n",
       "    </tr>\n",
       "  </tbody>\n",
       "</table>\n",
       "</div>"
      ],
      "text/plain": [
       "     Web  Bus_Stop  Newspaper  Sales\n",
       "0  230.1      37.8       69.2   22.1\n",
       "1   44.5      39.3       45.1   10.4\n",
       "2   17.2      45.9       69.3   12.0\n",
       "3  151.5      41.3       58.5   16.5\n",
       "4  180.8      10.8       58.4   17.9"
      ]
     },
     "execution_count": 14,
     "metadata": {},
     "output_type": "execute_result"
    }
   ],
   "source": [
    "#I\n",
    "#(a)\n",
    "ads = pd.read_csv(\"schwab_ads.csv\")\n",
    "ads.head()"
   ]
  },
  {
   "cell_type": "code",
   "execution_count": 15,
   "id": "b92af038",
   "metadata": {},
   "outputs": [
    {
     "data": {
      "text/html": [
       "<div>\n",
       "<style scoped>\n",
       "    .dataframe tbody tr th:only-of-type {\n",
       "        vertical-align: middle;\n",
       "    }\n",
       "\n",
       "    .dataframe tbody tr th {\n",
       "        vertical-align: top;\n",
       "    }\n",
       "\n",
       "    .dataframe thead th {\n",
       "        text-align: right;\n",
       "    }\n",
       "</style>\n",
       "<table border=\"1\" class=\"dataframe\">\n",
       "  <thead>\n",
       "    <tr style=\"text-align: right;\">\n",
       "      <th></th>\n",
       "      <th>Web</th>\n",
       "      <th>Bus_Stop</th>\n",
       "      <th>Newspaper</th>\n",
       "      <th>Sales</th>\n",
       "      <th>Total_Spending</th>\n",
       "    </tr>\n",
       "  </thead>\n",
       "  <tbody>\n",
       "    <tr>\n",
       "      <th>0</th>\n",
       "      <td>230.1</td>\n",
       "      <td>37.8</td>\n",
       "      <td>69.2</td>\n",
       "      <td>22.1</td>\n",
       "      <td>337.1</td>\n",
       "    </tr>\n",
       "    <tr>\n",
       "      <th>1</th>\n",
       "      <td>44.5</td>\n",
       "      <td>39.3</td>\n",
       "      <td>45.1</td>\n",
       "      <td>10.4</td>\n",
       "      <td>128.9</td>\n",
       "    </tr>\n",
       "    <tr>\n",
       "      <th>2</th>\n",
       "      <td>17.2</td>\n",
       "      <td>45.9</td>\n",
       "      <td>69.3</td>\n",
       "      <td>12.0</td>\n",
       "      <td>132.4</td>\n",
       "    </tr>\n",
       "    <tr>\n",
       "      <th>3</th>\n",
       "      <td>151.5</td>\n",
       "      <td>41.3</td>\n",
       "      <td>58.5</td>\n",
       "      <td>16.5</td>\n",
       "      <td>251.3</td>\n",
       "    </tr>\n",
       "    <tr>\n",
       "      <th>4</th>\n",
       "      <td>180.8</td>\n",
       "      <td>10.8</td>\n",
       "      <td>58.4</td>\n",
       "      <td>17.9</td>\n",
       "      <td>250.0</td>\n",
       "    </tr>\n",
       "  </tbody>\n",
       "</table>\n",
       "</div>"
      ],
      "text/plain": [
       "     Web  Bus_Stop  Newspaper  Sales  Total_Spending\n",
       "0  230.1      37.8       69.2   22.1           337.1\n",
       "1   44.5      39.3       45.1   10.4           128.9\n",
       "2   17.2      45.9       69.3   12.0           132.4\n",
       "3  151.5      41.3       58.5   16.5           251.3\n",
       "4  180.8      10.8       58.4   17.9           250.0"
      ]
     },
     "execution_count": 15,
     "metadata": {},
     "output_type": "execute_result"
    }
   ],
   "source": [
    "ads['Total_Spending'] = ads[['Web', 'Bus_Stop', 'Newspaper']].sum(axis=1)\n",
    "ads.head()"
   ]
  },
  {
   "cell_type": "code",
   "execution_count": 17,
   "id": "bc9fb514",
   "metadata": {},
   "outputs": [
    {
     "name": "stdout",
     "output_type": "stream",
     "text": [
      "The correlation between Total_Spending and Sales is: 0.924917006249931\n"
     ]
    }
   ],
   "source": [
    "#(b)\n",
    "corr = ads['Total_Spending'].corr(ads['Sales'])\n",
    "\n",
    "# Print the correlation\n",
    "print(\"The correlation between Total_Spending and Sales is:\", corr)"
   ]
  },
  {
   "cell_type": "markdown",
   "id": "03d240b6",
   "metadata": {},
   "source": [
    "*(i)Total_Spending and Sales are positively correlated*"
   ]
  },
  {
   "cell_type": "markdown",
   "id": "b4ba088c",
   "metadata": {},
   "source": [
    "*(ii)This means that as the total marketing spending increases, the sales also tend to increase. However, it's important to note that correlation does not necessarily imply causation.*\n",
    "\n",
    "*We cannot conclude from this correlation alone that more ad spending leads to more sales because there may be other factors at play that affect sales, such as the quality of the product or competition. Additionally, the relationship between ad spending and sales may not be linear, and there may be diminishing returns to increasing ad spending beyond a certain point.*"
   ]
  },
  {
   "cell_type": "code",
   "execution_count": 19,
   "id": "73fd0688",
   "metadata": {},
   "outputs": [
    {
     "name": "stdout",
     "output_type": "stream",
     "text": [
      "                     Web  Bus_Stop  Newspaper     Sales  Total_Spending\n",
      "Web             1.000000  0.054809   0.056648  0.901208        0.945330\n",
      "Bus_Stop        0.054809  1.000000   0.354104  0.349631        0.293211\n",
      "Newspaper       0.056648  0.354104   1.000000  0.157960        0.343059\n",
      "Sales           0.901208  0.349631   0.157960  1.000000        0.924917\n",
      "Total_Spending  0.945330  0.293211   0.343059  0.924917        1.000000\n"
     ]
    }
   ],
   "source": [
    "#(c)\n",
    "corr_matrix = ads.corr()\n",
    "print(corr_matrix)"
   ]
  },
  {
   "cell_type": "markdown",
   "id": "63593acd",
   "metadata": {},
   "source": [
    "*The correlation betweent Newspaper and Bus_Stop is high than the correlations between other variables. But the correlation between them is not very high, not necessarily a problem of multicollinearity, and can be used in the same linear model.*"
   ]
  },
  {
   "cell_type": "code",
   "execution_count": 22,
   "id": "056d5e94",
   "metadata": {},
   "outputs": [
    {
     "name": "stderr",
     "output_type": "stream",
     "text": [
      "C:\\ProgramData\\Anaconda3\\lib\\site-packages\\statsmodels\\tsa\\tsatools.py:142: FutureWarning: In a future version of pandas all arguments of concat except for the argument 'objs' will be keyword-only\n",
      "  x = pd.concat(x[::order], 1)\n"
     ]
    },
    {
     "data": {
      "text/html": [
       "<table class=\"simpletable\">\n",
       "<caption>OLS Regression Results</caption>\n",
       "<tr>\n",
       "  <th>Dep. Variable:</th>          <td>Sales</td>      <th>  R-squared:         </th> <td>   0.903</td>\n",
       "</tr>\n",
       "<tr>\n",
       "  <th>Model:</th>                   <td>OLS</td>       <th>  Adj. R-squared:    </th> <td>   0.901</td>\n",
       "</tr>\n",
       "<tr>\n",
       "  <th>Method:</th>             <td>Least Squares</td>  <th>  F-statistic:       </th> <td>   605.4</td>\n",
       "</tr>\n",
       "<tr>\n",
       "  <th>Date:</th>             <td>Wed, 19 Apr 2023</td> <th>  Prob (F-statistic):</th> <td>8.13e-99</td>\n",
       "</tr>\n",
       "<tr>\n",
       "  <th>Time:</th>                 <td>18:25:28</td>     <th>  Log-Likelihood:    </th> <td> -383.34</td>\n",
       "</tr>\n",
       "<tr>\n",
       "  <th>No. Observations:</th>      <td>   200</td>      <th>  AIC:               </th> <td>   774.7</td>\n",
       "</tr>\n",
       "<tr>\n",
       "  <th>Df Residuals:</th>          <td>   196</td>      <th>  BIC:               </th> <td>   787.9</td>\n",
       "</tr>\n",
       "<tr>\n",
       "  <th>Df Model:</th>              <td>     3</td>      <th>                     </th>     <td> </td>   \n",
       "</tr>\n",
       "<tr>\n",
       "  <th>Covariance Type:</th>      <td>nonrobust</td>    <th>                     </th>     <td> </td>   \n",
       "</tr>\n",
       "</table>\n",
       "<table class=\"simpletable\">\n",
       "<tr>\n",
       "      <td></td>         <th>coef</th>     <th>std err</th>      <th>t</th>      <th>P>|t|</th>  <th>[0.025</th>    <th>0.975]</th>  \n",
       "</tr>\n",
       "<tr>\n",
       "  <th>const</th>     <td>    4.6251</td> <td>    0.308</td> <td>   15.041</td> <td> 0.000</td> <td>    4.019</td> <td>    5.232</td>\n",
       "</tr>\n",
       "<tr>\n",
       "  <th>Web</th>       <td>    0.0544</td> <td>    0.001</td> <td>   39.592</td> <td> 0.000</td> <td>    0.052</td> <td>    0.057</td>\n",
       "</tr>\n",
       "<tr>\n",
       "  <th>Bus_Stop</th>  <td>    0.1070</td> <td>    0.008</td> <td>   12.604</td> <td> 0.000</td> <td>    0.090</td> <td>    0.124</td>\n",
       "</tr>\n",
       "<tr>\n",
       "  <th>Newspaper</th> <td>    0.0003</td> <td>    0.006</td> <td>    0.058</td> <td> 0.954</td> <td>   -0.011</td> <td>    0.012</td>\n",
       "</tr>\n",
       "</table>\n",
       "<table class=\"simpletable\">\n",
       "<tr>\n",
       "  <th>Omnibus:</th>       <td>16.081</td> <th>  Durbin-Watson:     </th> <td>   2.251</td>\n",
       "</tr>\n",
       "<tr>\n",
       "  <th>Prob(Omnibus):</th> <td> 0.000</td> <th>  Jarque-Bera (JB):  </th> <td>  27.655</td>\n",
       "</tr>\n",
       "<tr>\n",
       "  <th>Skew:</th>          <td>-0.431</td> <th>  Prob(JB):          </th> <td>9.88e-07</td>\n",
       "</tr>\n",
       "<tr>\n",
       "  <th>Kurtosis:</th>      <td> 4.605</td> <th>  Cond. No.          </th> <td>    454.</td>\n",
       "</tr>\n",
       "</table><br/><br/>Notes:<br/>[1] Standard Errors assume that the covariance matrix of the errors is correctly specified."
      ],
      "text/plain": [
       "<class 'statsmodels.iolib.summary.Summary'>\n",
       "\"\"\"\n",
       "                            OLS Regression Results                            \n",
       "==============================================================================\n",
       "Dep. Variable:                  Sales   R-squared:                       0.903\n",
       "Model:                            OLS   Adj. R-squared:                  0.901\n",
       "Method:                 Least Squares   F-statistic:                     605.4\n",
       "Date:                Wed, 19 Apr 2023   Prob (F-statistic):           8.13e-99\n",
       "Time:                        18:25:28   Log-Likelihood:                -383.34\n",
       "No. Observations:                 200   AIC:                             774.7\n",
       "Df Residuals:                     196   BIC:                             787.9\n",
       "Df Model:                           3                                         \n",
       "Covariance Type:            nonrobust                                         \n",
       "==============================================================================\n",
       "                 coef    std err          t      P>|t|      [0.025      0.975]\n",
       "------------------------------------------------------------------------------\n",
       "const          4.6251      0.308     15.041      0.000       4.019       5.232\n",
       "Web            0.0544      0.001     39.592      0.000       0.052       0.057\n",
       "Bus_Stop       0.1070      0.008     12.604      0.000       0.090       0.124\n",
       "Newspaper      0.0003      0.006      0.058      0.954      -0.011       0.012\n",
       "==============================================================================\n",
       "Omnibus:                       16.081   Durbin-Watson:                   2.251\n",
       "Prob(Omnibus):                  0.000   Jarque-Bera (JB):               27.655\n",
       "Skew:                          -0.431   Prob(JB):                     9.88e-07\n",
       "Kurtosis:                       4.605   Cond. No.                         454.\n",
       "==============================================================================\n",
       "\n",
       "Notes:\n",
       "[1] Standard Errors assume that the covariance matrix of the errors is correctly specified.\n",
       "\"\"\""
      ]
     },
     "execution_count": 22,
     "metadata": {},
     "output_type": "execute_result"
    }
   ],
   "source": [
    "#(d)\n",
    "\n",
    "X = ads[['Web', 'Bus_Stop', 'Newspaper']]\n",
    "y = ads['Sales']\n",
    "\n",
    "X = sm.add_constant(X)\n",
    "\n",
    "model = sm.OLS(y, X).fit()\n",
    "\n",
    "model.summary()"
   ]
  },
  {
   "cell_type": "markdown",
   "id": "30535e4b",
   "metadata": {},
   "source": [
    "*(i)The p-value of the F-statistic for the model is 8.13e-99. This p-value tests the null hypothesis that all the regression coefficients are equal to zero. A low p-value (< 0.05) suggests that at least one of the predictors is significantly related to the outcome variable. A high p-value (> 0.05) suggests that the predictors are not jointly significant and the model may not be useful.*"
   ]
  },
  {
   "cell_type": "markdown",
   "id": "efd59f6e",
   "metadata": {},
   "source": [
    "*(ii)The p-value of web and bus_stop is 0, but for newspaper it is 0.954>0.05. A low p-value for a predictor (< 0.05) suggests that it is significantly related to the outcome variable, while a high p-value suggests that it is not significant.*"
   ]
  },
  {
   "cell_type": "code",
   "execution_count": 23,
   "id": "7594c3cb",
   "metadata": {},
   "outputs": [
    {
     "name": "stderr",
     "output_type": "stream",
     "text": [
      "C:\\ProgramData\\Anaconda3\\lib\\site-packages\\statsmodels\\tsa\\tsatools.py:142: FutureWarning: In a future version of pandas all arguments of concat except for the argument 'objs' will be keyword-only\n",
      "  x = pd.concat(x[::order], 1)\n"
     ]
    },
    {
     "data": {
      "text/html": [
       "<table class=\"simpletable\">\n",
       "<caption>OLS Regression Results</caption>\n",
       "<tr>\n",
       "  <th>Dep. Variable:</th>          <td>Sales</td>      <th>  R-squared:         </th> <td>   0.914</td> \n",
       "</tr>\n",
       "<tr>\n",
       "  <th>Model:</th>                   <td>OLS</td>       <th>  Adj. R-squared:    </th> <td>   0.913</td> \n",
       "</tr>\n",
       "<tr>\n",
       "  <th>Method:</th>             <td>Least Squares</td>  <th>  F-statistic:       </th> <td>   694.7</td> \n",
       "</tr>\n",
       "<tr>\n",
       "  <th>Date:</th>             <td>Wed, 19 Apr 2023</td> <th>  Prob (F-statistic):</th> <td>3.90e-104</td>\n",
       "</tr>\n",
       "<tr>\n",
       "  <th>Time:</th>                 <td>18:48:44</td>     <th>  Log-Likelihood:    </th> <td> -370.83</td> \n",
       "</tr>\n",
       "<tr>\n",
       "  <th>No. Observations:</th>      <td>   200</td>      <th>  AIC:               </th> <td>   749.7</td> \n",
       "</tr>\n",
       "<tr>\n",
       "  <th>Df Residuals:</th>          <td>   196</td>      <th>  BIC:               </th> <td>   762.9</td> \n",
       "</tr>\n",
       "<tr>\n",
       "  <th>Df Model:</th>              <td>     3</td>      <th>                     </th>     <td> </td>    \n",
       "</tr>\n",
       "<tr>\n",
       "  <th>Covariance Type:</th>      <td>nonrobust</td>    <th>                     </th>     <td> </td>    \n",
       "</tr>\n",
       "</table>\n",
       "<table class=\"simpletable\">\n",
       "<tr>\n",
       "           <td></td>              <th>coef</th>     <th>std err</th>      <th>t</th>      <th>P>|t|</th>  <th>[0.025</th>    <th>0.975]</th>  \n",
       "</tr>\n",
       "<tr>\n",
       "  <th>const</th>               <td>    6.1926</td> <td>    0.410</td> <td>   15.101</td> <td> 0.000</td> <td>    5.384</td> <td>    7.001</td>\n",
       "</tr>\n",
       "<tr>\n",
       "  <th>Web</th>                 <td>    0.0436</td> <td>    0.002</td> <td>   17.512</td> <td> 0.000</td> <td>    0.039</td> <td>    0.048</td>\n",
       "</tr>\n",
       "<tr>\n",
       "  <th>Bus_Stop</th>            <td>    0.0423</td> <td>    0.015</td> <td>    2.869</td> <td> 0.005</td> <td>    0.013</td> <td>    0.071</td>\n",
       "</tr>\n",
       "<tr>\n",
       "  <th>bus_web_interaction</th> <td>    0.0004</td> <td> 8.67e-05</td> <td>    5.110</td> <td> 0.000</td> <td>    0.000</td> <td>    0.001</td>\n",
       "</tr>\n",
       "</table>\n",
       "<table class=\"simpletable\">\n",
       "<tr>\n",
       "  <th>Omnibus:</th>       <td> 8.006</td> <th>  Durbin-Watson:     </th> <td>   2.295</td>\n",
       "</tr>\n",
       "<tr>\n",
       "  <th>Prob(Omnibus):</th> <td> 0.018</td> <th>  Jarque-Bera (JB):  </th> <td>  10.847</td>\n",
       "</tr>\n",
       "<tr>\n",
       "  <th>Skew:</th>          <td>-0.258</td> <th>  Prob(JB):          </th> <td> 0.00441</td>\n",
       "</tr>\n",
       "<tr>\n",
       "  <th>Kurtosis:</th>      <td> 4.017</td> <th>  Cond. No.          </th> <td>1.80e+04</td>\n",
       "</tr>\n",
       "</table><br/><br/>Notes:<br/>[1] Standard Errors assume that the covariance matrix of the errors is correctly specified.<br/>[2] The condition number is large, 1.8e+04. This might indicate that there are<br/>strong multicollinearity or other numerical problems."
      ],
      "text/plain": [
       "<class 'statsmodels.iolib.summary.Summary'>\n",
       "\"\"\"\n",
       "                            OLS Regression Results                            \n",
       "==============================================================================\n",
       "Dep. Variable:                  Sales   R-squared:                       0.914\n",
       "Model:                            OLS   Adj. R-squared:                  0.913\n",
       "Method:                 Least Squares   F-statistic:                     694.7\n",
       "Date:                Wed, 19 Apr 2023   Prob (F-statistic):          3.90e-104\n",
       "Time:                        18:48:44   Log-Likelihood:                -370.83\n",
       "No. Observations:                 200   AIC:                             749.7\n",
       "Df Residuals:                     196   BIC:                             762.9\n",
       "Df Model:                           3                                         \n",
       "Covariance Type:            nonrobust                                         \n",
       "=======================================================================================\n",
       "                          coef    std err          t      P>|t|      [0.025      0.975]\n",
       "---------------------------------------------------------------------------------------\n",
       "const                   6.1926      0.410     15.101      0.000       5.384       7.001\n",
       "Web                     0.0436      0.002     17.512      0.000       0.039       0.048\n",
       "Bus_Stop                0.0423      0.015      2.869      0.005       0.013       0.071\n",
       "bus_web_interaction     0.0004   8.67e-05      5.110      0.000       0.000       0.001\n",
       "==============================================================================\n",
       "Omnibus:                        8.006   Durbin-Watson:                   2.295\n",
       "Prob(Omnibus):                  0.018   Jarque-Bera (JB):               10.847\n",
       "Skew:                          -0.258   Prob(JB):                      0.00441\n",
       "Kurtosis:                       4.017   Cond. No.                     1.80e+04\n",
       "==============================================================================\n",
       "\n",
       "Notes:\n",
       "[1] Standard Errors assume that the covariance matrix of the errors is correctly specified.\n",
       "[2] The condition number is large, 1.8e+04. This might indicate that there are\n",
       "strong multicollinearity or other numerical problems.\n",
       "\"\"\""
      ]
     },
     "execution_count": 23,
     "metadata": {},
     "output_type": "execute_result"
    }
   ],
   "source": [
    "#(e)\n",
    "ads['bus_web_interaction'] = ads['Bus_Stop'] * ads['Web']\n",
    "X = ads[['Web', 'Bus_Stop', 'bus_web_interaction']]\n",
    "y = ads['Sales']\n",
    "\n",
    "X = sm.add_constant(X)\n",
    "\n",
    "model_2 = sm.OLS(y, X).fit()\n",
    "\n",
    "model_2.summary()"
   ]
  },
  {
   "cell_type": "markdown",
   "id": "17dd1571",
   "metadata": {},
   "source": [
    "*(i) The p-values for each of these predictors are all less than 0.05, suggest that they are all significantly related to the outcome variable.*"
   ]
  },
  {
   "cell_type": "code",
   "execution_count": 24,
   "id": "238f0cb5",
   "metadata": {},
   "outputs": [
    {
     "name": "stderr",
     "output_type": "stream",
     "text": [
      "C:\\ProgramData\\Anaconda3\\lib\\site-packages\\statsmodels\\tsa\\tsatools.py:142: FutureWarning: In a future version of pandas all arguments of concat except for the argument 'objs' will be keyword-only\n",
      "  x = pd.concat(x[::order], 1)\n"
     ]
    },
    {
     "data": {
      "text/html": [
       "<table class=\"simpletable\">\n",
       "<caption>OLS Regression Results</caption>\n",
       "<tr>\n",
       "  <th>Dep. Variable:</th>          <td>Sales</td>      <th>  R-squared:         </th> <td>   0.903</td> \n",
       "</tr>\n",
       "<tr>\n",
       "  <th>Model:</th>                   <td>OLS</td>       <th>  Adj. R-squared:    </th> <td>   0.902</td> \n",
       "</tr>\n",
       "<tr>\n",
       "  <th>Method:</th>             <td>Least Squares</td>  <th>  F-statistic:       </th> <td>   912.7</td> \n",
       "</tr>\n",
       "<tr>\n",
       "  <th>Date:</th>             <td>Wed, 19 Apr 2023</td> <th>  Prob (F-statistic):</th> <td>2.39e-100</td>\n",
       "</tr>\n",
       "<tr>\n",
       "  <th>Time:</th>                 <td>18:51:36</td>     <th>  Log-Likelihood:    </th> <td> -383.34</td> \n",
       "</tr>\n",
       "<tr>\n",
       "  <th>No. Observations:</th>      <td>   200</td>      <th>  AIC:               </th> <td>   772.7</td> \n",
       "</tr>\n",
       "<tr>\n",
       "  <th>Df Residuals:</th>          <td>   197</td>      <th>  BIC:               </th> <td>   782.6</td> \n",
       "</tr>\n",
       "<tr>\n",
       "  <th>Df Model:</th>              <td>     2</td>      <th>                     </th>     <td> </td>    \n",
       "</tr>\n",
       "<tr>\n",
       "  <th>Covariance Type:</th>      <td>nonrobust</td>    <th>                     </th>     <td> </td>    \n",
       "</tr>\n",
       "</table>\n",
       "<table class=\"simpletable\">\n",
       "<tr>\n",
       "      <td></td>        <th>coef</th>     <th>std err</th>      <th>t</th>      <th>P>|t|</th>  <th>[0.025</th>    <th>0.975]</th>  \n",
       "</tr>\n",
       "<tr>\n",
       "  <th>const</th>    <td>    4.6309</td> <td>    0.290</td> <td>   15.952</td> <td> 0.000</td> <td>    4.058</td> <td>    5.203</td>\n",
       "</tr>\n",
       "<tr>\n",
       "  <th>Web</th>      <td>    0.0544</td> <td>    0.001</td> <td>   39.726</td> <td> 0.000</td> <td>    0.052</td> <td>    0.057</td>\n",
       "</tr>\n",
       "<tr>\n",
       "  <th>Bus_Stop</th> <td>    0.1072</td> <td>    0.008</td> <td>   13.522</td> <td> 0.000</td> <td>    0.092</td> <td>    0.123</td>\n",
       "</tr>\n",
       "</table>\n",
       "<table class=\"simpletable\">\n",
       "<tr>\n",
       "  <th>Omnibus:</th>       <td>16.227</td> <th>  Durbin-Watson:     </th> <td>   2.252</td>\n",
       "</tr>\n",
       "<tr>\n",
       "  <th>Prob(Omnibus):</th> <td> 0.000</td> <th>  Jarque-Bera (JB):  </th> <td>  27.973</td>\n",
       "</tr>\n",
       "<tr>\n",
       "  <th>Skew:</th>          <td>-0.434</td> <th>  Prob(JB):          </th> <td>8.43e-07</td>\n",
       "</tr>\n",
       "<tr>\n",
       "  <th>Kurtosis:</th>      <td> 4.613</td> <th>  Cond. No.          </th> <td>    425.</td>\n",
       "</tr>\n",
       "</table><br/><br/>Notes:<br/>[1] Standard Errors assume that the covariance matrix of the errors is correctly specified."
      ],
      "text/plain": [
       "<class 'statsmodels.iolib.summary.Summary'>\n",
       "\"\"\"\n",
       "                            OLS Regression Results                            \n",
       "==============================================================================\n",
       "Dep. Variable:                  Sales   R-squared:                       0.903\n",
       "Model:                            OLS   Adj. R-squared:                  0.902\n",
       "Method:                 Least Squares   F-statistic:                     912.7\n",
       "Date:                Wed, 19 Apr 2023   Prob (F-statistic):          2.39e-100\n",
       "Time:                        18:51:36   Log-Likelihood:                -383.34\n",
       "No. Observations:                 200   AIC:                             772.7\n",
       "Df Residuals:                     197   BIC:                             782.6\n",
       "Df Model:                           2                                         \n",
       "Covariance Type:            nonrobust                                         \n",
       "==============================================================================\n",
       "                 coef    std err          t      P>|t|      [0.025      0.975]\n",
       "------------------------------------------------------------------------------\n",
       "const          4.6309      0.290     15.952      0.000       4.058       5.203\n",
       "Web            0.0544      0.001     39.726      0.000       0.052       0.057\n",
       "Bus_Stop       0.1072      0.008     13.522      0.000       0.092       0.123\n",
       "==============================================================================\n",
       "Omnibus:                       16.227   Durbin-Watson:                   2.252\n",
       "Prob(Omnibus):                  0.000   Jarque-Bera (JB):               27.973\n",
       "Skew:                          -0.434   Prob(JB):                     8.43e-07\n",
       "Kurtosis:                       4.613   Cond. No.                         425.\n",
       "==============================================================================\n",
       "\n",
       "Notes:\n",
       "[1] Standard Errors assume that the covariance matrix of the errors is correctly specified.\n",
       "\"\"\""
      ]
     },
     "execution_count": 24,
     "metadata": {},
     "output_type": "execute_result"
    }
   ],
   "source": [
    "#(ii)\n",
    "X = ads[['Web', 'Bus_Stop']]\n",
    "y = ads['Sales']\n",
    "\n",
    "X = sm.add_constant(X)\n",
    "\n",
    "model_3 = sm.OLS(y, X).fit()\n",
    "\n",
    "model_3.summary()"
   ]
  },
  {
   "cell_type": "markdown",
   "id": "1879741a",
   "metadata": {},
   "source": [
    "*The r-squared was 0.903 for the model that did not include interactions and 0.914 for the model that included interactions. The higher the r-squared, the better the performance of the model.*"
   ]
  },
  {
   "cell_type": "code",
   "execution_count": 25,
   "id": "9ddacb50",
   "metadata": {},
   "outputs": [
    {
     "name": "stdout",
     "output_type": "stream",
     "text": [
      "Predicted Sales:  19.972593997237148\n"
     ]
    }
   ],
   "source": [
    "#(iii)\n",
    "web= 220\n",
    "bus_stop = 30\n",
    "interaction = web * bus_stop\n",
    "\n",
    "X_pred = np.array([1, web, bus_stop, interaction])\n",
    "\n",
    "y_pred = model_2.predict(X_pred)\n",
    "\n",
    "print(\"Predicted Sales: \", y_pred[0])"
   ]
  },
  {
   "cell_type": "markdown",
   "id": "512a78cc",
   "metadata": {},
   "source": [
    "*(iv)The interaction effect between bus stop and web ad spending shows how the combined effect of both types of advertising on sales may differ from what we would expect based on their individual effects. In other words, the effect of bus stop ads on sales may depend on the level of web ad spending, and vice versa. This suggests that marketers should not just consider the effects of individual advertising channels, but also think about how they interact with each other in driving sales outcomes. For example, a marketer might find that increasing web ad spending has a greater effect on sales when bus stop ad spending is also high, compared to when bus stop ad spending is low.*"
   ]
  },
  {
   "cell_type": "markdown",
   "id": "ccd0472c",
   "metadata": {},
   "source": [
    "*(f) An example of an interaction term in a model could be the relationship between experience and education on job performance. Suppose a company wants to predict the job performance of their employees based on their level of experience and education. The interaction term would be the product of experience and education, as they may have a synergistic effect on job performance. If the effect of their interaction on job performance is positive, it would suggest that having a higher level of education and more experience could lead to higher job performance. On the other hand, if the effect of their interaction is negative, it would suggest that having a higher level of education and more experience may not necessarily lead to higher job performance. As a data scientist, I would feel that this interaction makes sense as both education and experience could contribute to job performance, but it may not be a straightforward additive effect. The interaction term allows us to capture the potential synergistic effect of having both attributes.*"
   ]
  },
  {
   "cell_type": "markdown",
   "id": "9d96aa06",
   "metadata": {},
   "source": [
    "# Part III: Wildcard: A Real-World Consulting Opportunity"
   ]
  },
  {
   "cell_type": "markdown",
   "id": "b0373ca7",
   "metadata": {},
   "source": [
    "*I think peer evaluation is a good way to reduce the workload of that lecturer and also to involve as many students as possible. To avoid some bias caused by interpersonal relationships, such as when you would give a higher grade to your best friend who is taking the same session as you.We can use the idea of a double-blind experiment to assign groups for peer evaluation. We should add another feedback session where your own assignments get a higher score if the graded person is satisfied with your evaluation, which is a nice incentive mechanism. Because then everyone would be responsible for their own evaluation.*"
   ]
  }
 ],
 "metadata": {
  "kernelspec": {
   "display_name": "Python 3 (ipykernel)",
   "language": "python",
   "name": "python3"
  },
  "language_info": {
   "codemirror_mode": {
    "name": "ipython",
    "version": 3
   },
   "file_extension": ".py",
   "mimetype": "text/x-python",
   "name": "python",
   "nbconvert_exporter": "python",
   "pygments_lexer": "ipython3",
   "version": "3.9.7"
  }
 },
 "nbformat": 4,
 "nbformat_minor": 5
}
