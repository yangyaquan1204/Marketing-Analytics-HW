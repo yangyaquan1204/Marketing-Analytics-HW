{
 "cells": [
  {
   "cell_type": "markdown",
   "id": "17df3dbf",
   "metadata": {},
   "source": [
    "# Part I: A/B Testing for User Spending "
   ]
  },
  {
   "cell_type": "code",
   "execution_count": 47,
   "id": "fb431265",
   "metadata": {},
   "outputs": [],
   "source": [
    "import numpy as np\n",
    "import pandas as pd\n",
    "import matplotlib.pyplot as plt\n",
    "import seaborn as sns\n",
    "from scipy.stats import shapiro\n",
    "import scipy.stats as stats\n",
    "from statsmodels.stats.proportion import proportions_ztest\n",
    "import statsmodels.api as sm"
   ]
  },
  {
   "cell_type": "code",
   "execution_count": 3,
   "id": "f98efcc7",
   "metadata": {},
   "outputs": [
    {
     "data": {
      "text/html": [
       "<div>\n",
       "<style scoped>\n",
       "    .dataframe tbody tr th:only-of-type {\n",
       "        vertical-align: middle;\n",
       "    }\n",
       "\n",
       "    .dataframe tbody tr th {\n",
       "        vertical-align: top;\n",
       "    }\n",
       "\n",
       "    .dataframe thead th {\n",
       "        text-align: right;\n",
       "    }\n",
       "</style>\n",
       "<table border=\"1\" class=\"dataframe\">\n",
       "  <thead>\n",
       "    <tr style=\"text-align: right;\">\n",
       "      <th></th>\n",
       "      <th>userid</th>\n",
       "      <th>version</th>\n",
       "      <th>sum_gamerounds</th>\n",
       "      <th>retention_1</th>\n",
       "      <th>retention_7</th>\n",
       "      <th>user_spend</th>\n",
       "    </tr>\n",
       "  </thead>\n",
       "  <tbody>\n",
       "    <tr>\n",
       "      <th>0</th>\n",
       "      <td>1</td>\n",
       "      <td>Gulf of Maine</td>\n",
       "      <td>3</td>\n",
       "      <td>False</td>\n",
       "      <td>False</td>\n",
       "      <td>17.09</td>\n",
       "    </tr>\n",
       "    <tr>\n",
       "      <th>1</th>\n",
       "      <td>2</td>\n",
       "      <td>Gulf of Maine</td>\n",
       "      <td>38</td>\n",
       "      <td>True</td>\n",
       "      <td>False</td>\n",
       "      <td>15.30</td>\n",
       "    </tr>\n",
       "    <tr>\n",
       "      <th>2</th>\n",
       "      <td>7</td>\n",
       "      <td>Gulf of Maine</td>\n",
       "      <td>0</td>\n",
       "      <td>False</td>\n",
       "      <td>False</td>\n",
       "      <td>13.67</td>\n",
       "    </tr>\n",
       "    <tr>\n",
       "      <th>3</th>\n",
       "      <td>12</td>\n",
       "      <td>Gulf of Maine</td>\n",
       "      <td>0</td>\n",
       "      <td>False</td>\n",
       "      <td>False</td>\n",
       "      <td>16.92</td>\n",
       "    </tr>\n",
       "    <tr>\n",
       "      <th>4</th>\n",
       "      <td>14</td>\n",
       "      <td>Gulf of Maine</td>\n",
       "      <td>39</td>\n",
       "      <td>True</td>\n",
       "      <td>False</td>\n",
       "      <td>8.42</td>\n",
       "    </tr>\n",
       "  </tbody>\n",
       "</table>\n",
       "</div>"
      ],
      "text/plain": [
       "   userid        version  sum_gamerounds  retention_1  retention_7  user_spend\n",
       "0       1  Gulf of Maine               3        False        False       17.09\n",
       "1       2  Gulf of Maine              38         True        False       15.30\n",
       "2       7  Gulf of Maine               0        False        False       13.67\n",
       "3      12  Gulf of Maine               0        False        False       16.92\n",
       "4      14  Gulf of Maine              39         True        False        8.42"
      ]
     },
     "execution_count": 3,
     "metadata": {},
     "output_type": "execute_result"
    }
   ],
   "source": [
    "app = pd.read_csv(\"lobster_run.csv\")\n",
    "app.head()"
   ]
  },
  {
   "cell_type": "code",
   "execution_count": 4,
   "id": "0ec388e8",
   "metadata": {},
   "outputs": [
    {
     "data": {
      "text/plain": [
       "Text(0.5, 1.0, 'The Total in-app spending(USD) since the time of the download')"
      ]
     },
     "execution_count": 4,
     "metadata": {},
     "output_type": "execute_result"
    },
    {
     "data": {
      "image/png": "[encoded data removed]",
      "text/plain": [
       "<Figure size 432x288 with 1 Axes>"
      ]
     },
     "metadata": {
      "needs_background": "light"
     },
     "output_type": "display_data"
    }
   ],
   "source": [
    "#A\n",
    "sns.histplot(x='user_spend',bins=10,color='green',data=app)\n",
    "plt.xlabel('The distribution of user spend')\n",
    "plt.title('The Total in-app spending(USD) since the time of the download')"
   ]
  },
  {
   "cell_type": "markdown",
   "id": "ed90fd9e",
   "metadata": {},
   "source": [
    "*This histogram shows the distribution of the users' total in-app spending(USD) since the time of the download. The value range from 5 to 25 and are divided into 10 equal-width bins. This histogram is Symmetric, indicating that the majority of people spend in the medium range. And there is no outlier in this dataset.*"
   ]
  },
  {
   "cell_type": "code",
   "execution_count": 5,
   "id": "6c2aaaef",
   "metadata": {},
   "outputs": [
    {
     "data": {
      "text/plain": [
       "Text(0.5, 1.0, 'The Total in-app spending(USD) since the time of the download')"
      ]
     },
     "execution_count": 5,
     "metadata": {},
     "output_type": "execute_result"
    },
    {
     "data": {
      "image/png": "[encoded data removed]",
      "text/plain": [
       "<Figure size 432x288 with 1 Axes>"
      ]
     },
     "metadata": {
      "needs_background": "light"
     },
     "output_type": "display_data"
    }
   ],
   "source": [
    "#B\n",
    "sns.histplot(x='user_spend',bins=10,hue='version',multiple='stack', palette='summer', data=app)\n",
    "plt.xlabel('The distribution of user spend')\n",
    "plt.title('The Total in-app spending(USD) since the time of the download')"
   ]
  },
  {
   "cell_type": "markdown",
   "id": "e8b0f80d",
   "metadata": {},
   "source": [
    "*This histogram indicates that the distributions of users' total in-app spending group by version are similar.*"
   ]
  },
  {
   "cell_type": "code",
   "execution_count": 6,
   "id": "5ecd9b7f",
   "metadata": {},
   "outputs": [
    {
     "name": "stdout",
     "output_type": "stream",
     "text": [
      "stat=1.000, p=0.381\n",
      "\n",
      "User spend is normally distributed (fail to reject H0)\n"
     ]
    },
    {
     "name": "stderr",
     "output_type": "stream",
     "text": [
      "C:\\ProgramData\\Anaconda3\\lib\\site-packages\\scipy\\stats\\morestats.py:1760: UserWarning: p-value may not be accurate for N > 5000.\n",
      "  warnings.warn(\"p-value may not be accurate for N > 5000.\")\n"
     ]
    }
   ],
   "source": [
    "#C\n",
    "data=app['user_spend']\n",
    "stat, p = shapiro(data)\n",
    "print('stat=%.3f, p=%.3f\\n' % (stat,p))\n",
    "alpha = 0.05\n",
    "if p > alpha:\n",
    "    print('User spend is normally distributed (fail to reject H0)')\n",
    "else:\n",
    "    print('User spend is not normally distributed (reject H0)')"
   ]
  },
  {
   "cell_type": "markdown",
   "id": "7449b4cd",
   "metadata": {},
   "source": [
    "*(a) Null hypothesis: User spend is normally distributed*"
   ]
  },
  {
   "cell_type": "markdown",
   "id": "3f06479f",
   "metadata": {},
   "source": [
    "*(b) p>0,05, fail to reject H0. User spend is normally distributed*"
   ]
  },
  {
   "cell_type": "code",
   "execution_count": 7,
   "id": "c11eccd0",
   "metadata": {},
   "outputs": [
    {
     "name": "stdout",
     "output_type": "stream",
     "text": [
      "f-statistic: 2.5199483354398935\n",
      "p-value: 0.11241777327945679\n"
     ]
    }
   ],
   "source": [
    "#D\n",
    "Gulf=app[(app['version'] == 'Gulf of Maine')]\n",
    "Atlantic=app[(app['version'] == 'North Atlantic')]\n",
    "group1=Gulf['user_spend']\n",
    "group2=Atlantic['user_spend']\n",
    "f_stat, p_val = stats.f_oneway(group1, group2)\n",
    "print(\"f-statistic:\", f_stat)\n",
    "print(\"p-value:\", p_val)"
   ]
  },
  {
   "cell_type": "markdown",
   "id": "f2687877",
   "metadata": {},
   "source": [
    "*(a)The null hypothesis is that there is no significant difference in means between the groups.*"
   ]
  },
  {
   "cell_type": "markdown",
   "id": "9263a52f",
   "metadata": {},
   "source": [
    "*(b)The p-value here is 0.112>0.05, fail to reject null hypothesis, so version dosen't have a significant impact on user spending*"
   ]
  },
  {
   "cell_type": "markdown",
   "id": "a7018b4a",
   "metadata": {},
   "source": [
    "# Part II: A/B Testing Two App Versions"
   ]
  },
  {
   "cell_type": "code",
   "execution_count": 8,
   "id": "0885bf62",
   "metadata": {},
   "outputs": [
    {
     "name": "stderr",
     "output_type": "stream",
     "text": [
      "C:\\Users\\86150\\AppData\\Local\\Temp/ipykernel_17984/760587072.py:2: FutureWarning: Indexing with multiple keys (implicitly converted to a tuple of keys) will be deprecated, use a list instead.\n",
      "  grouped=app.groupby(\"version\")['retention_1', 'retention_7'].describe()\n"
     ]
    },
    {
     "data": {
      "text/html": [
       "<div>\n",
       "<style scoped>\n",
       "    .dataframe tbody tr th:only-of-type {\n",
       "        vertical-align: middle;\n",
       "    }\n",
       "\n",
       "    .dataframe tbody tr th {\n",
       "        vertical-align: top;\n",
       "    }\n",
       "\n",
       "    .dataframe thead tr th {\n",
       "        text-align: left;\n",
       "    }\n",
       "\n",
       "    .dataframe thead tr:last-of-type th {\n",
       "        text-align: right;\n",
       "    }\n",
       "</style>\n",
       "<table border=\"1\" class=\"dataframe\">\n",
       "  <thead>\n",
       "    <tr>\n",
       "      <th></th>\n",
       "      <th colspan=\"4\" halign=\"left\">retention_1</th>\n",
       "      <th colspan=\"4\" halign=\"left\">retention_7</th>\n",
       "    </tr>\n",
       "    <tr>\n",
       "      <th></th>\n",
       "      <th>count</th>\n",
       "      <th>unique</th>\n",
       "      <th>top</th>\n",
       "      <th>freq</th>\n",
       "      <th>count</th>\n",
       "      <th>unique</th>\n",
       "      <th>top</th>\n",
       "      <th>freq</th>\n",
       "    </tr>\n",
       "    <tr>\n",
       "      <th>version</th>\n",
       "      <th></th>\n",
       "      <th></th>\n",
       "      <th></th>\n",
       "      <th></th>\n",
       "      <th></th>\n",
       "      <th></th>\n",
       "      <th></th>\n",
       "      <th></th>\n",
       "    </tr>\n",
       "  </thead>\n",
       "  <tbody>\n",
       "    <tr>\n",
       "      <th>Gulf of Maine</th>\n",
       "      <td>44700</td>\n",
       "      <td>2</td>\n",
       "      <td>False</td>\n",
       "      <td>24666</td>\n",
       "      <td>44700</td>\n",
       "      <td>2</td>\n",
       "      <td>False</td>\n",
       "      <td>35956</td>\n",
       "    </tr>\n",
       "    <tr>\n",
       "      <th>North Atlantic</th>\n",
       "      <td>45489</td>\n",
       "      <td>2</td>\n",
       "      <td>False</td>\n",
       "      <td>25370</td>\n",
       "      <td>45489</td>\n",
       "      <td>2</td>\n",
       "      <td>False</td>\n",
       "      <td>37210</td>\n",
       "    </tr>\n",
       "  </tbody>\n",
       "</table>\n",
       "</div>"
      ],
      "text/plain": [
       "               retention_1                      retention_7                \\\n",
       "                     count unique    top   freq       count unique    top   \n",
       "version                                                                     \n",
       "Gulf of Maine        44700      2  False  24666       44700      2  False   \n",
       "North Atlantic       45489      2  False  25370       45489      2  False   \n",
       "\n",
       "                       \n",
       "                 freq  \n",
       "version                \n",
       "Gulf of Maine   35956  \n",
       "North Atlantic  37210  "
      ]
     },
     "execution_count": 8,
     "metadata": {},
     "output_type": "execute_result"
    }
   ],
   "source": [
    "#E\n",
    "grouped=app.groupby(\"version\")['retention_1', 'retention_7'].describe()\n",
    "grouped"
   ]
  },
  {
   "cell_type": "markdown",
   "id": "e0428039",
   "metadata": {},
   "source": [
    "*(a) For the variables \"retention_1\" and \"retention_7\", False means the user is no longer engaged in the app. From\n",
    " the almost identical churn rate we can see version doesn't have an impact on user behavior*"
   ]
  },
  {
   "cell_type": "code",
   "execution_count": 40,
   "id": "2c072123",
   "metadata": {},
   "outputs": [
    {
     "name": "stdout",
     "output_type": "stream",
     "text": [
      "z_stat: 1.7840862247974725\n",
      "p-value: 0.07440965529691913\n"
     ]
    }
   ],
   "source": [
    "#F\n",
    "stayed_1=sum(Gulf['retention_1']==True)  # Number of retained players for version 1\n",
    "trials_v1 =len(Gulf)  # Total number of players for version 1\n",
    "stayed_2=sum(Atlantic['retention_1']==True) # Number of retained players for version 2\n",
    "trials_v2 = len(Atlantic)  # Total number of players for version 2\n",
    "\n",
    "# Calculate the sample proportions and pooled proportion\n",
    "prop_v1 = stayed_1/ trials_v1\n",
    "prop_v2 = stayed_2 / trials_v2\n",
    "pooled_prop = np.sum(stayed_1 + stayed_2) / np.sum(trials_v1 + trials_v2)\n",
    "\n",
    "# Perform the z-test for the difference between proportions\n",
    "z_stat, p_value = proportions_ztest(count=[stayed_1, stayed_2],\n",
    "                                    nobs=[trials_v1, trials_v2],\n",
    "                                    value=0,\n",
    "                                    alternative='two-sided')\n",
    "print(\"z_stat:\", z_stat)\n",
    "print(\"p-value:\", p_value)"
   ]
  },
  {
   "cell_type": "markdown",
   "id": "71914ba9",
   "metadata": {},
   "source": [
    "*The p_value is 0.0744>0.05, reject the null hypothesis. The version does impact the retention_1.*"
   ]
  },
  {
   "cell_type": "markdown",
   "id": "9a2f3e71",
   "metadata": {},
   "source": [
    "*(a)The null hypothesis of the test is that there is no difference in the retention_1 between the two versions of the game.*"
   ]
  },
  {
   "cell_type": "code",
   "execution_count": 19,
   "id": "c7f7a685",
   "metadata": {},
   "outputs": [
    {
     "data": {
      "text/html": [
       "<div>\n",
       "<style scoped>\n",
       "    .dataframe tbody tr th:only-of-type {\n",
       "        vertical-align: middle;\n",
       "    }\n",
       "\n",
       "    .dataframe tbody tr th {\n",
       "        vertical-align: top;\n",
       "    }\n",
       "\n",
       "    .dataframe thead th {\n",
       "        text-align: right;\n",
       "    }\n",
       "</style>\n",
       "<table border=\"1\" class=\"dataframe\">\n",
       "  <thead>\n",
       "    <tr style=\"text-align: right;\">\n",
       "      <th></th>\n",
       "      <th>userid</th>\n",
       "      <th>version</th>\n",
       "      <th>sum_gamerounds</th>\n",
       "      <th>retention_1</th>\n",
       "      <th>retention_7</th>\n",
       "      <th>user_spend</th>\n",
       "    </tr>\n",
       "  </thead>\n",
       "  <tbody>\n",
       "    <tr>\n",
       "      <th>0</th>\n",
       "      <td>1</td>\n",
       "      <td>Gulf of Maine</td>\n",
       "      <td>3</td>\n",
       "      <td>False</td>\n",
       "      <td>False</td>\n",
       "      <td>17.09</td>\n",
       "    </tr>\n",
       "    <tr>\n",
       "      <th>1</th>\n",
       "      <td>2</td>\n",
       "      <td>Gulf of Maine</td>\n",
       "      <td>38</td>\n",
       "      <td>True</td>\n",
       "      <td>False</td>\n",
       "      <td>15.30</td>\n",
       "    </tr>\n",
       "    <tr>\n",
       "      <th>2</th>\n",
       "      <td>7</td>\n",
       "      <td>Gulf of Maine</td>\n",
       "      <td>0</td>\n",
       "      <td>False</td>\n",
       "      <td>False</td>\n",
       "      <td>13.67</td>\n",
       "    </tr>\n",
       "    <tr>\n",
       "      <th>3</th>\n",
       "      <td>12</td>\n",
       "      <td>Gulf of Maine</td>\n",
       "      <td>0</td>\n",
       "      <td>False</td>\n",
       "      <td>False</td>\n",
       "      <td>16.92</td>\n",
       "    </tr>\n",
       "    <tr>\n",
       "      <th>4</th>\n",
       "      <td>14</td>\n",
       "      <td>Gulf of Maine</td>\n",
       "      <td>39</td>\n",
       "      <td>True</td>\n",
       "      <td>False</td>\n",
       "      <td>8.42</td>\n",
       "    </tr>\n",
       "    <tr>\n",
       "      <th>...</th>\n",
       "      <td>...</td>\n",
       "      <td>...</td>\n",
       "      <td>...</td>\n",
       "      <td>...</td>\n",
       "      <td>...</td>\n",
       "      <td>...</td>\n",
       "    </tr>\n",
       "    <tr>\n",
       "      <th>44695</th>\n",
       "      <td>90180</td>\n",
       "      <td>Gulf of Maine</td>\n",
       "      <td>14</td>\n",
       "      <td>True</td>\n",
       "      <td>False</td>\n",
       "      <td>19.01</td>\n",
       "    </tr>\n",
       "    <tr>\n",
       "      <th>44696</th>\n",
       "      <td>90181</td>\n",
       "      <td>Gulf of Maine</td>\n",
       "      <td>7</td>\n",
       "      <td>False</td>\n",
       "      <td>False</td>\n",
       "      <td>16.12</td>\n",
       "    </tr>\n",
       "    <tr>\n",
       "      <th>44697</th>\n",
       "      <td>90183</td>\n",
       "      <td>Gulf of Maine</td>\n",
       "      <td>21</td>\n",
       "      <td>True</td>\n",
       "      <td>False</td>\n",
       "      <td>16.81</td>\n",
       "    </tr>\n",
       "    <tr>\n",
       "      <th>44698</th>\n",
       "      <td>90184</td>\n",
       "      <td>Gulf of Maine</td>\n",
       "      <td>10</td>\n",
       "      <td>False</td>\n",
       "      <td>False</td>\n",
       "      <td>16.95</td>\n",
       "    </tr>\n",
       "    <tr>\n",
       "      <th>44699</th>\n",
       "      <td>90187</td>\n",
       "      <td>Gulf of Maine</td>\n",
       "      <td>28</td>\n",
       "      <td>True</td>\n",
       "      <td>False</td>\n",
       "      <td>18.36</td>\n",
       "    </tr>\n",
       "  </tbody>\n",
       "</table>\n",
       "<p>44700 rows × 6 columns</p>\n",
       "</div>"
      ],
      "text/plain": [
       "       userid        version  sum_gamerounds  retention_1  retention_7  \\\n",
       "0           1  Gulf of Maine               3        False        False   \n",
       "1           2  Gulf of Maine              38         True        False   \n",
       "2           7  Gulf of Maine               0        False        False   \n",
       "3          12  Gulf of Maine               0        False        False   \n",
       "4          14  Gulf of Maine              39         True        False   \n",
       "...       ...            ...             ...          ...          ...   \n",
       "44695   90180  Gulf of Maine              14         True        False   \n",
       "44696   90181  Gulf of Maine               7        False        False   \n",
       "44697   90183  Gulf of Maine              21         True        False   \n",
       "44698   90184  Gulf of Maine              10        False        False   \n",
       "44699   90187  Gulf of Maine              28         True        False   \n",
       "\n",
       "       user_spend  \n",
       "0           17.09  \n",
       "1           15.30  \n",
       "2           13.67  \n",
       "3           16.92  \n",
       "4            8.42  \n",
       "...           ...  \n",
       "44695       19.01  \n",
       "44696       16.12  \n",
       "44697       16.81  \n",
       "44698       16.95  \n",
       "44699       18.36  \n",
       "\n",
       "[44700 rows x 6 columns]"
      ]
     },
     "execution_count": 19,
     "metadata": {},
     "output_type": "execute_result"
    }
   ],
   "source": [
    "#(b)\n",
    "Gulf=app[(app['version'] == 'Gulf of Maine')]\n",
    "Gulf"
   ]
  },
  {
   "cell_type": "code",
   "execution_count": 18,
   "id": "19b0ea3c",
   "metadata": {},
   "outputs": [
    {
     "data": {
      "text/plain": [
       "20034"
      ]
     },
     "execution_count": 18,
     "metadata": {},
     "output_type": "execute_result"
    }
   ],
   "source": [
    "#(c)\n",
    "stayed_1=sum(Gulf['retention_1']==True)\n",
    "stayed_1"
   ]
  },
  {
   "cell_type": "code",
   "execution_count": 28,
   "id": "2c478bf9",
   "metadata": {},
   "outputs": [
    {
     "data": {
      "text/plain": [
       "20076.5"
      ]
     },
     "execution_count": 28,
     "metadata": {},
     "output_type": "execute_result"
    }
   ],
   "source": [
    "#(d)\n",
    "total_stayed=sum(app['retention_1']==True)\n",
    "total_stayed\n",
    "expected_stayed=total_stayed/2\n",
    "expected_stayed"
   ]
  },
  {
   "cell_type": "markdown",
   "id": "ff4ed98f",
   "metadata": {},
   "source": [
    "*If there is no difference between the two versions, then the number of people staying should be equal.*"
   ]
  },
  {
   "cell_type": "code",
   "execution_count": 49,
   "id": "8bc7618b",
   "metadata": {},
   "outputs": [
    {
     "name": "stdout",
     "output_type": "stream",
     "text": [
      "Z-score: -0.42\n",
      "P-value: 0.6714\n"
     ]
    }
   ],
   "source": [
    "#(e)\n",
    "stayed_1=20034\n",
    "total_stayed=40153\n",
    "expected_retention=0.5\n",
    "z_score, p_value = sm.stats.proportions_ztest(stayed_1, total_stayed, expected_retention)\n",
    "print(f\"Z-score: {z_score:.2f}\")\n",
    "print(f\"P-value: {p_value:.4f}\")"
   ]
  },
  {
   "cell_type": "markdown",
   "id": "cfc0ab3d",
   "metadata": {},
   "source": [
    "*The null hypothesis is: the retention_1 for the Gulf version isn't meaningfully different from the expected number*"
   ]
  },
  {
   "cell_type": "markdown",
   "id": "8ca5aea2",
   "metadata": {},
   "source": [
    "*(f) The retention_1 for the Gulf version is meaningfully different from the expected number*"
   ]
  },
  {
   "cell_type": "code",
   "execution_count": 41,
   "id": "518de765",
   "metadata": {},
   "outputs": [
    {
     "name": "stdout",
     "output_type": "stream",
     "text": [
      "z_stat: 5.2243715853147945\n",
      "p-value: 1.7474754929457694e-07\n"
     ]
    }
   ],
   "source": [
    "#G\n",
    "stayed7_1=sum(Gulf['retention_7']==True)  # Number of retained players for version 1\n",
    "trials7_v1 =len(Gulf)  # Total number of players for version 1\n",
    "stayed7_2=sum(Atlantic['retention_7']==True) # Number of retained players for version 2\n",
    "trials7_v2 = len(Atlantic)  # Total number of players for version 2\n",
    "\n",
    "# Calculate the sample proportions and pooled proportion\n",
    "prop7_v1 = stayed7_1/ trials7_v1\n",
    "prop7_v2 = stayed7_2 / trials7_v2\n",
    "pooled_prop_7 = np.sum(stayed7_1 + stayed7_2) / np.sum(trials7_v1 + trials7_v2)\n",
    "\n",
    "# Perform the z-test for the difference between proportions\n",
    "z_stat, p_value = proportions_ztest(count=[stayed7_1, stayed7_2],\n",
    "                                    nobs=[trials7_v1, trials7_v2],\n",
    "                                    value=0,\n",
    "                                    alternative='two-sided')\n",
    "print(\"z_stat:\", z_stat)\n",
    "print(\"p-value:\", p_value)"
   ]
  },
  {
   "cell_type": "markdown",
   "id": "db3bad6c",
   "metadata": {},
   "source": [
    "*The p_value is 1.7474>0.05, reject the null hypothesis. The version does impact the retention_7.*"
   ]
  },
  {
   "cell_type": "markdown",
   "id": "758d004d",
   "metadata": {},
   "source": [
    "*(a)The null hypothesis of the test is that there is no difference in the retention_7 between the two versions of the game.*"
   ]
  },
  {
   "cell_type": "code",
   "execution_count": 42,
   "id": "1caad998",
   "metadata": {},
   "outputs": [
    {
     "data": {
      "text/html": [
       "<div>\n",
       "<style scoped>\n",
       "    .dataframe tbody tr th:only-of-type {\n",
       "        vertical-align: middle;\n",
       "    }\n",
       "\n",
       "    .dataframe tbody tr th {\n",
       "        vertical-align: top;\n",
       "    }\n",
       "\n",
       "    .dataframe thead th {\n",
       "        text-align: right;\n",
       "    }\n",
       "</style>\n",
       "<table border=\"1\" class=\"dataframe\">\n",
       "  <thead>\n",
       "    <tr style=\"text-align: right;\">\n",
       "      <th></th>\n",
       "      <th>userid</th>\n",
       "      <th>version</th>\n",
       "      <th>sum_gamerounds</th>\n",
       "      <th>retention_1</th>\n",
       "      <th>retention_7</th>\n",
       "      <th>user_spend</th>\n",
       "    </tr>\n",
       "  </thead>\n",
       "  <tbody>\n",
       "    <tr>\n",
       "      <th>0</th>\n",
       "      <td>1</td>\n",
       "      <td>Gulf of Maine</td>\n",
       "      <td>3</td>\n",
       "      <td>False</td>\n",
       "      <td>False</td>\n",
       "      <td>17.09</td>\n",
       "    </tr>\n",
       "    <tr>\n",
       "      <th>1</th>\n",
       "      <td>2</td>\n",
       "      <td>Gulf of Maine</td>\n",
       "      <td>38</td>\n",
       "      <td>True</td>\n",
       "      <td>False</td>\n",
       "      <td>15.30</td>\n",
       "    </tr>\n",
       "    <tr>\n",
       "      <th>2</th>\n",
       "      <td>7</td>\n",
       "      <td>Gulf of Maine</td>\n",
       "      <td>0</td>\n",
       "      <td>False</td>\n",
       "      <td>False</td>\n",
       "      <td>13.67</td>\n",
       "    </tr>\n",
       "    <tr>\n",
       "      <th>3</th>\n",
       "      <td>12</td>\n",
       "      <td>Gulf of Maine</td>\n",
       "      <td>0</td>\n",
       "      <td>False</td>\n",
       "      <td>False</td>\n",
       "      <td>16.92</td>\n",
       "    </tr>\n",
       "    <tr>\n",
       "      <th>4</th>\n",
       "      <td>14</td>\n",
       "      <td>Gulf of Maine</td>\n",
       "      <td>39</td>\n",
       "      <td>True</td>\n",
       "      <td>False</td>\n",
       "      <td>8.42</td>\n",
       "    </tr>\n",
       "    <tr>\n",
       "      <th>...</th>\n",
       "      <td>...</td>\n",
       "      <td>...</td>\n",
       "      <td>...</td>\n",
       "      <td>...</td>\n",
       "      <td>...</td>\n",
       "      <td>...</td>\n",
       "    </tr>\n",
       "    <tr>\n",
       "      <th>44695</th>\n",
       "      <td>90180</td>\n",
       "      <td>Gulf of Maine</td>\n",
       "      <td>14</td>\n",
       "      <td>True</td>\n",
       "      <td>False</td>\n",
       "      <td>19.01</td>\n",
       "    </tr>\n",
       "    <tr>\n",
       "      <th>44696</th>\n",
       "      <td>90181</td>\n",
       "      <td>Gulf of Maine</td>\n",
       "      <td>7</td>\n",
       "      <td>False</td>\n",
       "      <td>False</td>\n",
       "      <td>16.12</td>\n",
       "    </tr>\n",
       "    <tr>\n",
       "      <th>44697</th>\n",
       "      <td>90183</td>\n",
       "      <td>Gulf of Maine</td>\n",
       "      <td>21</td>\n",
       "      <td>True</td>\n",
       "      <td>False</td>\n",
       "      <td>16.81</td>\n",
       "    </tr>\n",
       "    <tr>\n",
       "      <th>44698</th>\n",
       "      <td>90184</td>\n",
       "      <td>Gulf of Maine</td>\n",
       "      <td>10</td>\n",
       "      <td>False</td>\n",
       "      <td>False</td>\n",
       "      <td>16.95</td>\n",
       "    </tr>\n",
       "    <tr>\n",
       "      <th>44699</th>\n",
       "      <td>90187</td>\n",
       "      <td>Gulf of Maine</td>\n",
       "      <td>28</td>\n",
       "      <td>True</td>\n",
       "      <td>False</td>\n",
       "      <td>18.36</td>\n",
       "    </tr>\n",
       "  </tbody>\n",
       "</table>\n",
       "<p>44700 rows × 6 columns</p>\n",
       "</div>"
      ],
      "text/plain": [
       "       userid        version  sum_gamerounds  retention_1  retention_7  \\\n",
       "0           1  Gulf of Maine               3        False        False   \n",
       "1           2  Gulf of Maine              38         True        False   \n",
       "2           7  Gulf of Maine               0        False        False   \n",
       "3          12  Gulf of Maine               0        False        False   \n",
       "4          14  Gulf of Maine              39         True        False   \n",
       "...       ...            ...             ...          ...          ...   \n",
       "44695   90180  Gulf of Maine              14         True        False   \n",
       "44696   90181  Gulf of Maine               7        False        False   \n",
       "44697   90183  Gulf of Maine              21         True        False   \n",
       "44698   90184  Gulf of Maine              10        False        False   \n",
       "44699   90187  Gulf of Maine              28         True        False   \n",
       "\n",
       "       user_spend  \n",
       "0           17.09  \n",
       "1           15.30  \n",
       "2           13.67  \n",
       "3           16.92  \n",
       "4            8.42  \n",
       "...           ...  \n",
       "44695       19.01  \n",
       "44696       16.12  \n",
       "44697       16.81  \n",
       "44698       16.95  \n",
       "44699       18.36  \n",
       "\n",
       "[44700 rows x 6 columns]"
      ]
     },
     "execution_count": 42,
     "metadata": {},
     "output_type": "execute_result"
    }
   ],
   "source": [
    "#(b)\n",
    "Gulf=app[(app['version'] == 'Gulf of Maine')]\n",
    "Gulf"
   ]
  },
  {
   "cell_type": "code",
   "execution_count": 43,
   "id": "3384d844",
   "metadata": {},
   "outputs": [
    {
     "data": {
      "text/plain": [
       "8744"
      ]
     },
     "execution_count": 43,
     "metadata": {},
     "output_type": "execute_result"
    }
   ],
   "source": [
    "#(c)\n",
    "stayed_7=sum(Gulf['retention_7']==True)\n",
    "stayed_7"
   ]
  },
  {
   "cell_type": "code",
   "execution_count": 44,
   "id": "a4fef46c",
   "metadata": {},
   "outputs": [
    {
     "data": {
      "text/plain": [
       "8511.5"
      ]
     },
     "execution_count": 44,
     "metadata": {},
     "output_type": "execute_result"
    }
   ],
   "source": [
    "#(d)\n",
    "total_stayed=sum(app['retention_7']==True)\n",
    "total_stayed\n",
    "expected_stayed=total_stayed/2\n",
    "expected_stayed"
   ]
  },
  {
   "cell_type": "code",
   "execution_count": 51,
   "id": "fe7c2c6b",
   "metadata": {},
   "outputs": [
    {
     "name": "stdout",
     "output_type": "stream",
     "text": [
      "Z-score: 3.57\n",
      "P-value: 0.0004\n"
     ]
    }
   ],
   "source": [
    "#(e)\n",
    "stayed_7=8744\n",
    "total_stayed=17023\n",
    "expected_retention=0.5\n",
    "z_score, p_value = sm.stats.proportions_ztest(stayed_7, total_stayed, expected_retention)\n",
    "print(f\"Z-score: {z_score:.2f}\")\n",
    "print(f\"P-value: {p_value:.4f}\")"
   ]
  },
  {
   "cell_type": "markdown",
   "id": "ca90dafe",
   "metadata": {},
   "source": [
    "*The null hypothesis is: the retention_7 for the Gulf version isn't meaningfully different from the expected number*"
   ]
  },
  {
   "cell_type": "markdown",
   "id": "0e307f79",
   "metadata": {},
   "source": [
    "*(f) The retention_7 for the Gulf version isn't meaningfully different from the expected number*"
   ]
  },
  {
   "cell_type": "markdown",
   "id": "f1c212be",
   "metadata": {},
   "source": [
    "*H*"
   ]
  },
  {
   "cell_type": "markdown",
   "id": "5139e3a2",
   "metadata": {},
   "source": [
    "*From the statistical test results we can see that version has a statistically significant effect on customer retention, and the longer the time, the greater the effect. Lobsterland should choose the version with higher retention rate and continue to optimize the upgrade to achieve the purpose of improving the retention rate and user activity.*"
   ]
  },
  {
   "cell_type": "markdown",
   "id": "662e0d80",
   "metadata": {},
   "source": [
    "# Part III: Using Tableau to Build a Dashboard "
   ]
  },
  {
   "cell_type": "markdown",
   "id": "0a6b7a03",
   "metadata": {},
   "source": [
    "*The first dashboard compares how much visitors from different states spend at Lobsterland and their payment methods. The second dashboard shows the age distribution of Lobsterland visitors and the popularity of the four coasters. The two dashboards show that Lobsterland visitors from Maine spend the most and pay more with cash. The most popular roller coaster is the sky chair; the roller coaster with the least number of people experiencing it is Lobster Claw. And the age of 30-40s is the most among the visitors to Lobsterland.*"
   ]
  },
  {
   "attachments": {
    "image.png": {
     "image/png": "[encoded data removed]"
    }
   },
   "cell_type": "markdown",
   "id": "1fe4ac0f",
   "metadata": {},
   "source": [
    "![image.png](attachment:image.png)"
   ]
  },
  {
   "attachments": {
    "image.png": {
     "image/png": "[encoded data removed]"
    }
   },
   "cell_type": "markdown",
   "id": "61e4b65b",
   "metadata": {},
   "source": [
    "![image.png](attachment:image.png)"
   ]
  },
  {
   "cell_type": "markdown",
   "id": "fa45d8dc",
   "metadata": {},
   "source": [
    "https://public.tableau.com/app/profile/yaquan.yang/viz/Yang_Assignment4_1/Dashboard1?publish=yes"
   ]
  },
  {
   "cell_type": "markdown",
   "id": "38dd0188",
   "metadata": {},
   "source": [
    "https://public.tableau.com/app/profile/yaquan.yang/viz/Yang_Assignment4/Dashboard2?publish=yes"
   ]
  }
 ],
 "metadata": {
  "kernelspec": {
   "display_name": "Python 3 (ipykernel)",
   "language": "python",
   "name": "python3"
  },
  "language_info": {
   "codemirror_mode": {
    "name": "ipython",
    "version": 3
   },
   "file_extension": ".py",
   "mimetype": "text/x-python",
   "name": "python",
   "nbconvert_exporter": "python",
   "pygments_lexer": "ipython3",
   "version": "3.9.7"
  }
 },
 "nbformat": 4,
 "nbformat_minor": 5
}
